{
  "cells": [
    {
      "cell_type": "markdown",
      "metadata": {
        "id": "CnWmyVjUp4xm"
      },
      "source": [
        "# Project 2: Neural Style Transfer\n",
        "##### \n",
        "##### Submission due on December 11th \n",
        "##### \n",
        "\n",
        "<table style=\"width:100%\">\n",
        "    <tr>\n",
        "        <th><img src=\"altgebaeude.jpg?666\" alt=\"\" style=\"width: 333px;\"></th>\n",
        "        <th><img src=\"vangogh.jpg?999\" alt=\"\" style=\"width: 333px;\"></th>\n",
        "        <th><img src=\"altgebaeude_stilisiert.png?555\" alt=\"\" style=\"width: 333px;\"></th>\n",
        "    </tr>\n",
        "    <tr>\n",
        "        <th>Content Image $\\mathbf{c}$</th>\n",
        "        <th>Style Image $\\mathbf{s}$</th>\n",
        "        <th>Generated Image $\\mathbf{x}$</th>\n",
        "    </tr>\n",
        "</table> \n",
        "\n",
        "#### \n",
        "\n",
        "Welcome to *Project 2: Neural Style Transfer*! Neural style transfer is an approach to modify a given image (the *Content Image*, usually a photo) such that it assimilates another given image (the *Style Image*, usually a painting) in terms of style. In doing that, of course we need an explicit definition of what we mean by *style*: A specific loss function is minimized which incorporates a pretrained convolutional neural network (CNN). A subset of layers of the CNN are used to compute a distance between the sought image (the *Generated Image*) and the *Content Image*, and between the *Generated Image* and the *Style Imgage*, respectively.\n",
        "\n",
        "The underlying idea originates in the paper <a href=\"https://arxiv.org/pdf/1508.06576.pdf\">A Neural Algorithm of Artistic Style</a> by Leon Gatys, Alexander Ecker and Matthias Bethge. It is assumed that outputs of CNN layers indicate whether or not areas of an input image contain certain learned patterns. Each filter in a CNN layer represents one pattern, and the deeper a filter is located in the network, the more complex and abstract can be the extracted information. While layer outputs (activations) can be used directly to derive a distance between content image and generated image, something more sophisticated is needed to measure similarity in style. To establish a style based distance, correlations (inner products) between all output channels of a CNN layer are computed and stored in a *Gram Matrix*. A comparison between *Style Image* and *Generated Image* is then accomplished in terms of several Gram matrices relating to different layers. More details can be found below, in the above-mentioned paper, and in the Stud.IP Courseware.\n",
        "\n",
        "In this project, you will use the readily trained and available CNN <a href=\"https://www.tensorflow.org/api_docs/python/tf/keras/applications/vgg19\">VGG19</a> (see also <a href=\"https://arxiv.org/pdf/1409.1556.pdf\">Very Deep Convolutional Networks for Large-Scale Image Recognition</a> by Karen Simonyan Andrew Zisserman). In other words, our goal here is **not** to learn parameters of a neural network. We solely seek the *Generated Image*. However, you will learn fundamentals for an advanced usage of Keras and TensorFlow. To compute CNN activations and Gram matrices from inputs, you will need the <a href=\"https://studip.tu-braunschweig.de/plugins.php/courseware/courseware?cid=20c4897dea349b14eca5d904fda9504d&selected=1400901\">Keras Functional API</a> as well as the <a href=\"https://studip.tu-braunschweig.de/plugins.php/courseware/courseware?cid=20c4897dea349b14eca5d904fda9504d&selected=1400902\">Keras Subclassing API</a>. These two enable you to create custom models in Keras and surpass the possibilities of the <a href=\"https://studip.tu-braunschweig.de/plugins.php/courseware/courseware?cid=20c4897dea349b14eca5d904fda9504d&selected=1400900\">Keras Sequential API</a> by far. Moreover, you will use <a href=\"https://studip.tu-braunschweig.de/plugins.php/courseware/courseware?cid=20c4897dea349b14eca5d904fda9504d&selected=1400905\">TensorFlow functions</a> and <a href=\"https://studip.tu-braunschweig.de/plugins.php/courseware/courseware?cid=20c4897dea349b14eca5d904fda9504d&selected=1400896\">automatic differentiation</a> in order to implement <a href=\"https://studip.tu-braunschweig.de/plugins.php/courseware/courseware?cid=20c4897dea349b14eca5d904fda9504d&selected=1400904\">custom training loops</a> in TensorFlow."
      ]
    },
    {
      "cell_type": "code",
      "execution_count": 1,
      "metadata": {
        "id": "j_t_pjZpp4xq"
      },
      "outputs": [],
      "source": [
        "import matplotlib.pyplot as plt\n",
        "import numpy as np\n",
        "import tensorflow as tf\n",
        "import tensorflow_probability as tfp\n",
        "\n",
        "tf.keras.backend.set_floatx('float64')"
      ]
    },
    {
      "cell_type": "markdown",
      "metadata": {
        "id": "zBi0puRIp4xr"
      },
      "source": [
        "## 2.1 Loading and formatting images with TensorFlow"
      ]
    },
    {
      "cell_type": "markdown",
      "metadata": {
        "id": "Sl3prm_Dp4xr"
      },
      "source": [
        "1. Write a function ```load_img(path_to_img, max_dim)``` that reads and resizes an image. The function shall return a 4D-tensor ```img``` of type ```tf.float64``` with values in the range ```[0,1]```. Height and width of the image shall be scaled such that the maximum of ```img.shape[1]``` (height in pixels) and ```img.shape[2]``` (width in pixels) is exactly ```max_dim```. Moreover, the output should feature ```img.shape[0] = 1``` (batch size) and ```img.shape[3] = 3``` (number of channels). Proceed as follows:\n",
        "\n",
        "    1.1 Use ```tf.io.read_file```, ```tf.image.decode_image``` and ```tf.image.convert_image_dtype``` (in this order), to read and convert the input image.\n",
        "    \n",
        "    1.2 Use ```tf.image.resize``` to scale height and width by the same factor. Make sure that the maximum \n",
        "    \n",
        "    1.3 Use ```tf.expand_dims``` to add the batch dimension.\n",
        "    \n",
        "    1.4 Use ```tf.cast``` to make sure that the output has type ```tf.float64```.\n"
      ]
    },
    {
      "cell_type": "code",
      "execution_count": 2,
      "metadata": {
        "id": "EOcP1Ethp4xr"
      },
      "outputs": [],
      "source": [
        "# YOUR CODE\n",
        "def load_img(path_to_img, max_dim):\n",
        "  img = tf.io.read_file(path_to_img)\n",
        "  img = tf.image.decode_image(img, channels=3)\n",
        "  img = tf.image.convert_image_dtype(img, tf.float32)\n",
        "  shape = tf.cast(tf.shape(img)[:-1], tf.float64)\n",
        "  long_dim = max(shape)\n",
        "  scale = max_dim / long_dim\n",
        "  new_shape = tf.cast(shape * scale, tf.int32)\n",
        "\n",
        "  img = tf.image.resize(img, new_shape)\n",
        "  img = tf.expand_dims(img, axis=0)\n",
        "  return img\n",
        "\n",
        "\n",
        "\n",
        "\n"
      ]
    },
    {
      "cell_type": "markdown",
      "metadata": {
        "id": "TQBeu9gCp4xs"
      },
      "source": [
        "2. Call ```load_img``` with ```max_dim = 512``` to load ```altgebaeude.jpg``` and ```vangogh.jpg``` and store them in variables ```content_image``` and ```style_image```, respectively.\n",
        "\n",
        "\n",
        "3. Use ```plt.imshow``` to display both images."
      ]
    },
    {
      "cell_type": "code",
      "execution_count": 5,
      "metadata": {
        "colab": {
          "base_uri": "https://localhost:8080/"
        },
        "id": "_MJv0nJtdUO1",
        "outputId": "dfca270b-6f3f-45c8-ca53-546ef7fcefc0"
      },
      "outputs": [],
      "source": [
        "from google.colab import drive\n",
        "drive.mount('/content/drive')"
      ]
    },
    {
      "cell_type": "code",
      "execution_count": 4,
      "metadata": {
        "colab": {
          "base_uri": "https://localhost:8080/",
          "height": 627
        },
        "id": "hn6ikVM6p4xs",
        "outputId": "d4db459b-d366-43c1-87c1-67a9f6796f55"
      },
      "outputs": [
        {
          "name": "stdout",
          "output_type": "stream",
          "text": [
            "Metal device set to: Apple M1\n",
            "\n",
            "systemMemory: 16.00 GB\n",
            "maxCacheSize: 5.33 GB\n",
            "\n"
          ]
        },
        {
          "name": "stderr",
          "output_type": "stream",
          "text": [
            "2022-11-30 23:11:39.983147: I tensorflow/core/common_runtime/pluggable_device/pluggable_device_factory.cc:306] Could not identify NUMA node of platform GPU ID 0, defaulting to 0. Your kernel may not have been built with NUMA support.\n",
            "2022-11-30 23:11:39.983781: I tensorflow/core/common_runtime/pluggable_device/pluggable_device_factory.cc:272] Created TensorFlow device (/job:localhost/replica:0/task:0/device:GPU:0 with 0 MB memory) -> physical PluggableDevice (device: 0, name: METAL, pci bus id: <undefined>)\n",
            "2022-11-30 23:11:40.015718: W tensorflow/core/framework/op_kernel.cc:1780] OP_REQUIRES failed at whole_file_read_ops.cc:116 : NOT_FOUND: /content/drive/MyDrive/altgebaeude.jpg; No such file or directory\n"
          ]
        },
        {
          "ename": "NotFoundError",
          "evalue": "{{function_node __wrapped__ReadFile_device_/job:localhost/replica:0/task:0/device:CPU:0}} /content/drive/MyDrive/altgebaeude.jpg; No such file or directory [Op:ReadFile]",
          "output_type": "error",
          "traceback": [
            "\u001b[0;31m---------------------------------------------------------------------------\u001b[0m",
            "\u001b[0;31mNotFoundError\u001b[0m                             Traceback (most recent call last)",
            "Cell \u001b[0;32mIn [4], line 5\u001b[0m\n\u001b[1;32m      3\u001b[0m content_path\u001b[39m=\u001b[39m \u001b[39m\"\u001b[39m\u001b[39m/content/drive/MyDrive/altgebaeude.jpg\u001b[39m\u001b[39m\"\u001b[39m\n\u001b[1;32m      4\u001b[0m style_path\u001b[39m=\u001b[39m \u001b[39m\"\u001b[39m\u001b[39m/content/drive/MyDrive/vangogh.jpg\u001b[39m\u001b[39m\"\u001b[39m\n\u001b[0;32m----> 5\u001b[0m content_image \u001b[39m=\u001b[39m load_img(content_path,\u001b[39m512\u001b[39;49m)\n\u001b[1;32m      6\u001b[0m style_image \u001b[39m=\u001b[39m load_img(style_path,\u001b[39m512\u001b[39m)\n\u001b[1;32m      8\u001b[0m Content_Image \u001b[39m=\u001b[39mplt\u001b[39m.\u001b[39mimshow(content_image)\n",
            "Cell \u001b[0;32mIn [2], line 3\u001b[0m, in \u001b[0;36mload_img\u001b[0;34m(path_to_img, max_dim)\u001b[0m\n\u001b[1;32m      2\u001b[0m \u001b[39mdef\u001b[39;00m \u001b[39mload_img\u001b[39m(path_to_img, max_dim):\n\u001b[0;32m----> 3\u001b[0m   img \u001b[39m=\u001b[39m tf\u001b[39m.\u001b[39;49mio\u001b[39m.\u001b[39;49mread_file(path_to_img)\n\u001b[1;32m      4\u001b[0m   img \u001b[39m=\u001b[39m tf\u001b[39m.\u001b[39mimage\u001b[39m.\u001b[39mdecode_image(img, channels\u001b[39m=\u001b[39m\u001b[39m3\u001b[39m)\n\u001b[1;32m      5\u001b[0m   img \u001b[39m=\u001b[39m tf\u001b[39m.\u001b[39mimage\u001b[39m.\u001b[39mconvert_image_dtype(img, tf\u001b[39m.\u001b[39mfloat32)\n",
            "File \u001b[0;32m~/opt/miniconda3/envs/fdps/lib/python3.10/site-packages/tensorflow/python/ops/io_ops.py:133\u001b[0m, in \u001b[0;36mread_file\u001b[0;34m(filename, name)\u001b[0m\n\u001b[1;32m     96\u001b[0m \u001b[39m@tf_export\u001b[39m(\u001b[39m\"\u001b[39m\u001b[39mio.read_file\u001b[39m\u001b[39m\"\u001b[39m, v1\u001b[39m=\u001b[39m[\u001b[39m\"\u001b[39m\u001b[39mio.read_file\u001b[39m\u001b[39m\"\u001b[39m, \u001b[39m\"\u001b[39m\u001b[39mread_file\u001b[39m\u001b[39m\"\u001b[39m])\n\u001b[1;32m     97\u001b[0m \u001b[39mdef\u001b[39;00m \u001b[39mread_file\u001b[39m(filename, name\u001b[39m=\u001b[39m\u001b[39mNone\u001b[39;00m):\n\u001b[1;32m     98\u001b[0m   \u001b[39m\"\"\"Reads the contents of file.\u001b[39;00m\n\u001b[1;32m     99\u001b[0m \n\u001b[1;32m    100\u001b[0m \u001b[39m  This operation returns a tensor with the entire contents of the input\u001b[39;00m\n\u001b[0;32m   (...)\u001b[0m\n\u001b[1;32m    131\u001b[0m \u001b[39m    A tensor of dtype \"string\", with the file contents.\u001b[39;00m\n\u001b[1;32m    132\u001b[0m \u001b[39m  \"\"\"\u001b[39;00m\n\u001b[0;32m--> 133\u001b[0m   \u001b[39mreturn\u001b[39;00m gen_io_ops\u001b[39m.\u001b[39;49mread_file(filename, name)\n",
            "File \u001b[0;32m~/opt/miniconda3/envs/fdps/lib/python3.10/site-packages/tensorflow/python/ops/gen_io_ops.py:582\u001b[0m, in \u001b[0;36mread_file\u001b[0;34m(filename, name)\u001b[0m\n\u001b[1;32m    580\u001b[0m   \u001b[39mpass\u001b[39;00m\n\u001b[1;32m    581\u001b[0m \u001b[39mtry\u001b[39;00m:\n\u001b[0;32m--> 582\u001b[0m   \u001b[39mreturn\u001b[39;00m read_file_eager_fallback(\n\u001b[1;32m    583\u001b[0m       filename, name\u001b[39m=\u001b[39;49mname, ctx\u001b[39m=\u001b[39;49m_ctx)\n\u001b[1;32m    584\u001b[0m \u001b[39mexcept\u001b[39;00m _core\u001b[39m.\u001b[39m_SymbolicException:\n\u001b[1;32m    585\u001b[0m   \u001b[39mpass\u001b[39;00m  \u001b[39m# Add nodes to the TensorFlow graph.\u001b[39;00m\n",
            "File \u001b[0;32m~/opt/miniconda3/envs/fdps/lib/python3.10/site-packages/tensorflow/python/ops/gen_io_ops.py:605\u001b[0m, in \u001b[0;36mread_file_eager_fallback\u001b[0;34m(filename, name, ctx)\u001b[0m\n\u001b[1;32m    603\u001b[0m _inputs_flat \u001b[39m=\u001b[39m [filename]\n\u001b[1;32m    604\u001b[0m _attrs \u001b[39m=\u001b[39m \u001b[39mNone\u001b[39;00m\n\u001b[0;32m--> 605\u001b[0m _result \u001b[39m=\u001b[39m _execute\u001b[39m.\u001b[39;49mexecute(\u001b[39mb\u001b[39;49m\u001b[39m\"\u001b[39;49m\u001b[39mReadFile\u001b[39;49m\u001b[39m\"\u001b[39;49m, \u001b[39m1\u001b[39;49m, inputs\u001b[39m=\u001b[39;49m_inputs_flat,\n\u001b[1;32m    606\u001b[0m                            attrs\u001b[39m=\u001b[39;49m_attrs, ctx\u001b[39m=\u001b[39;49mctx, name\u001b[39m=\u001b[39;49mname)\n\u001b[1;32m    607\u001b[0m \u001b[39mif\u001b[39;00m _execute\u001b[39m.\u001b[39mmust_record_gradient():\n\u001b[1;32m    608\u001b[0m   _execute\u001b[39m.\u001b[39mrecord_gradient(\n\u001b[1;32m    609\u001b[0m       \u001b[39m\"\u001b[39m\u001b[39mReadFile\u001b[39m\u001b[39m\"\u001b[39m, _inputs_flat, _attrs, _result)\n",
            "File \u001b[0;32m~/opt/miniconda3/envs/fdps/lib/python3.10/site-packages/tensorflow/python/eager/execute.py:54\u001b[0m, in \u001b[0;36mquick_execute\u001b[0;34m(op_name, num_outputs, inputs, attrs, ctx, name)\u001b[0m\n\u001b[1;32m     52\u001b[0m \u001b[39mtry\u001b[39;00m:\n\u001b[1;32m     53\u001b[0m   ctx\u001b[39m.\u001b[39mensure_initialized()\n\u001b[0;32m---> 54\u001b[0m   tensors \u001b[39m=\u001b[39m pywrap_tfe\u001b[39m.\u001b[39;49mTFE_Py_Execute(ctx\u001b[39m.\u001b[39;49m_handle, device_name, op_name,\n\u001b[1;32m     55\u001b[0m                                       inputs, attrs, num_outputs)\n\u001b[1;32m     56\u001b[0m \u001b[39mexcept\u001b[39;00m core\u001b[39m.\u001b[39m_NotOkStatusException \u001b[39mas\u001b[39;00m e:\n\u001b[1;32m     57\u001b[0m   \u001b[39mif\u001b[39;00m name \u001b[39mis\u001b[39;00m \u001b[39mnot\u001b[39;00m \u001b[39mNone\u001b[39;00m:\n",
            "\u001b[0;31mNotFoundError\u001b[0m: {{function_node __wrapped__ReadFile_device_/job:localhost/replica:0/task:0/device:CPU:0}} /content/drive/MyDrive/altgebaeude.jpg; No such file or directory [Op:ReadFile]"
          ]
        }
      ],
      "source": [
        "# YOUR CODE\n",
        "\n",
        "content_path= \"/content/drive/MyDrive/altgebaeude.jpg\"\n",
        "style_path= \"/content/drive/MyDrive/vangogh.jpg\"\n",
        "content_image = load_img(content_path,512)\n",
        "style_image = load_img(style_path,512)\n",
        "\n",
        "Content_Image =plt.imshow(content_image)\n",
        "\n",
        "Style_Image=plt.imshow(style_image)"
      ]
    },
    {
      "cell_type": "markdown",
      "metadata": {
        "id": "eCvV1G0up4xs"
      },
      "source": [
        "4. Apply ```tf.shape``` to ```content_image``` and ```style_image``` and diplay both outputs."
      ]
    },
    {
      "cell_type": "code",
      "execution_count": null,
      "metadata": {
        "id": "MmjKNUiup4xs"
      },
      "outputs": [],
      "source": [
        "# YOUR CODE"
      ]
    },
    {
      "cell_type": "markdown",
      "metadata": {
        "id": "8oz29pxdp4xt"
      },
      "source": [
        "**Checkpoint:** Your output should look like this:\n",
        "\n",
        "```\n",
        "tf.Tensor([  1 337 512   3], shape=(4,), dtype=int32)\n",
        "tf.Tensor([  1 405 512   3], shape=(4,), dtype=int32)\n",
        "```"
      ]
    },
    {
      "cell_type": "markdown",
      "metadata": {
        "id": "CW0VT5Acp4xt"
      },
      "source": [
        "## 2.2 Using pretrained models in Keras\n",
        "\n",
        "```tf.keras.applications``` lets you load various readily trained neural networks, for example ```VGG19``` which we are going to use here. Before starting with Neural Style Transfer, let us see how to use a pretrained model for multiclass classification.\n",
        "\n",
        "5. Call ```tf.keras.applications.VGG19``` with arguments ```include_top = True``` and ```weights = \"imagenet\"```, and store the output in a variable ```vgg```.\n",
        "\n",
        "The first-mentioned argument is to get both the preceding convolutional layers *and* the subsequent fully connected layers at the top of ```VGG19```. Vice versa, ```include_top = False``` lets you load the network without fully connected layers. The version without fully connected layers has the advantage that images of arbitrary height and width are accepted as input and can be propagated through the network (we will make use of this for Neural Style Transfer). The variant you should have loaded now accepts only ```224 x 224``` images. The latter argument ```weights = \"imagenet\"``` implies that a network is loaded that was pretrained on the ```imagenet``` dataset. By means of ```weights = None```, you can also get a randomly initialized version."
      ]
    },
    {
      "cell_type": "code",
      "execution_count": null,
      "metadata": {
        "id": "APhomTeup4xt"
      },
      "outputs": [],
      "source": [
        "# YOUR CODE"
      ]
    },
    {
      "cell_type": "markdown",
      "metadata": {
        "id": "T-Q_i5Yfp4xt"
      },
      "source": [
        "6. Use ```tf.keras.models.Model.summary``` to get an overview of the model."
      ]
    },
    {
      "cell_type": "code",
      "execution_count": null,
      "metadata": {
        "id": "DsGsweYxp4xt",
        "scrolled": true
      },
      "outputs": [],
      "source": [
        "# YOUR CODE"
      ]
    },
    {
      "cell_type": "markdown",
      "metadata": {
        "id": "qYfvRK4Jp4xu"
      },
      "source": [
        "Each model in ```keras.applications``` has an own preprocessing function that should be applied to inputs before feeding them into the network. In case of ```VGG19```, the preprocessing function expects an image with integer pixel values between 0 and 255 as input.\n",
        "\n",
        "7. Apply ```tf.keras.applications.vgg19.preprocess_input``` to a version of ```content_image``` with accordingly scaled pixel values and store the output in ```content_image_pp```. Afterwards, use ```tf.image.resize``` to rescale ```content_image_pp``` such that you can apply ```vgg``` to the result ```content_image_rs```. Do the latter and store the output of ```vgg``` in ```predicted_probabilities```."
      ]
    },
    {
      "cell_type": "code",
      "execution_count": null,
      "metadata": {
        "id": "XagLNkjDp4xu"
      },
      "outputs": [],
      "source": [
        "# YOUR CODE"
      ]
    },
    {
      "cell_type": "markdown",
      "metadata": {
        "id": "uoKvMM0Op4xu"
      },
      "source": [
        "8. Now call ```tf.keras.applications.vgg19.decode_predictions``` with arguments ```predicted_probabilities.numpy()``` and ```top = 10``` to display the top 10 classes and associated probabilities for the given input. Store the output in ```predicted_top_10``` and display ```[(class_name, prob) for (number, class_name, prob) in predicted_top_10[0]]```."
      ]
    },
    {
      "cell_type": "code",
      "execution_count": null,
      "metadata": {
        "id": "GsKJI7Icp4xu"
      },
      "outputs": [],
      "source": [
        "# YOUR CODE"
      ]
    },
    {
      "cell_type": "markdown",
      "metadata": {
        "id": "guw7jGrCp4xv"
      },
      "source": [
        "**Checkpoint:** You should have got the following output:\n",
        "```\n",
        "[('palace', 0.9914493749464944),\n",
        " ('triumphal_arch', 0.00267970467587212),\n",
        " ('monastery', 0.0013206769341534597),\n",
        " ('library', 0.0011177809930798567),\n",
        " ('fountain', 0.0008800198818778909),\n",
        " ('church', 0.0004445435231895076),\n",
        " ('castle', 0.0003099415218987508),\n",
        " ('obelisk', 0.00029764423272215536),\n",
        " ('dome', 0.00022929634370079404),\n",
        " ('cinema', 0.00022750031564633795)]\n",
        " ```\n",
        "\n",
        "So, according to ```VGG19```, our old building is most probably a palace!\n",
        "\n",
        "9. Repeat 7. und 8. with ```style_image``` as input."
      ]
    },
    {
      "cell_type": "code",
      "execution_count": null,
      "metadata": {
        "id": "HdhvFFGbp4xv"
      },
      "outputs": [],
      "source": [
        "# YOUR CODE"
      ]
    },
    {
      "cell_type": "markdown",
      "metadata": {
        "id": "x_SIPLaQp4xv"
      },
      "source": [
        "## 2.3 Defining a feature extractor\n",
        "\n",
        "Now, we come to the main part of this project: *Neural Style Transfer*! To evaluate the objective\n",
        "\n",
        "$$J(\\mathbf{x}, \\mathbf{c}, \\mathbf{s}) = \\alpha \\ J_\\mathrm{content}(\\mathbf{x}, \\mathbf{c}) + \\beta \\ J_\\mathrm{style}(\\mathbf{x}, \\mathbf{s})\\qquad (*)$$\n",
        "\n",
        "we need a *feature extractor*. The feature extractor shall provide us outputs $\\mathrm{a}^{[\\ell](\\mathbf{x})}$ and $\\mathrm{a}^{[\\ell](\\mathbf{c})}$ of selected convolutional layers of ```VGG19``` that we need to evaluate the content loss:\n",
        "\n",
        "$$J_\\mathrm{content}(\\mathbf{x}, \\mathbf{c}) = \\frac{1}{2 \\vert L_\\mathrm{content}\\vert} \\sum_{\\ell\\in L_\\mathrm{content}} \\Vert \\mathrm{a}^{[\\ell](\\mathbf{x})} - \\mathrm{a}^{[\\ell](\\mathbf{c})} \\Vert_2^2\\qquad (**)$$\n",
        "\n",
        "The set $L_\\mathrm{content}$ contains all indices of layers that shall be considered in the content loss. Accordingly, $L_\\mathrm{style}$ refers to layers that shall be considered in the style loss.\n",
        "\n",
        "Respective outputs are used to compute gram matrices $\\mathrm{G}^{[\\ell](\\mathbf{x})}$ and $\\mathrm{G}^{[\\ell](\\mathbf{s})}$ that we need to evaluate the style loss:\n",
        "\n",
        "$$J_\\mathrm{style}(\\mathbf{x}, \\mathbf{s}) = \\frac{1}{4 \\vert L_\\mathrm{style}\\vert} \\sum_{\\ell\\in L_\\mathrm{style}} \\Vert \\mathrm{G}^{[\\ell](\\mathbf{x})} - \\mathrm{G}^{[\\ell](\\mathbf{s})} \\Vert_2^2\\qquad (***)$$\n",
        "\n",
        "Therein, the gram matrices are computed via\n",
        "\n",
        "$$\\mathrm{G}^{[\\ell](\\mathbf{x})}_{i, j} = \\frac{1}{n^{[\\ell]}_H n^{[\\ell]}_W n^{[\\ell]}_C} \\langle\\mathrm{a}^{[\\ell](\\mathbf{x})}_{i}, \\mathrm{a}^{[\\ell](\\mathbf{x})}_{j}\\rangle\\quad\\text{für}\\quad i, j =1,\\dots,n^{[\\ell]}_C\\qquad (****)$$\n",
        "\n",
        "and $\\mathrm{a}^{[\\ell](\\mathbf{x})}_{i}$ and $\\mathrm{a}^{[\\ell](\\mathbf{x})}_{j}$ represent the $i$-th and $j$-th channel of $\\mathrm{a}^{[\\ell](\\mathbf{x})}$, respectively.\n",
        "\n",
        "\n",
        "10. Load ```VGG19``` again, this time with ```include_top = False```. Afterwards, display the names of all layers in ```vgg.layers```."
      ]
    },
    {
      "cell_type": "code",
      "execution_count": null,
      "metadata": {
        "id": "Zj7pQ5t_p4xw"
      },
      "outputs": [],
      "source": [
        "# YOUR CODE"
      ]
    },
    {
      "cell_type": "markdown",
      "metadata": {
        "id": "IsHLzfkJp4xw"
      },
      "source": [
        "**Checkpoint:** Your output should look as follows:\n",
        "```\n",
        "input_2\n",
        "block1_conv1\n",
        "block1_conv2\n",
        "block1_pool\n",
        "block2_conv1\n",
        "block2_conv2\n",
        "block2_pool\n",
        "block3_conv1\n",
        "block3_conv2\n",
        "block3_conv3\n",
        "block3_conv4\n",
        "block3_pool\n",
        "block4_conv1\n",
        "block4_conv2\n",
        "block4_conv3\n",
        "block4_conv4\n",
        "block4_pool\n",
        "block5_conv1\n",
        "block5_conv2\n",
        "block5_conv3\n",
        "block5_conv4\n",
        "block5_pool\n",
        "```\n",
        "\n",
        "This output includes all layers, that can be added to $L_\\mathrm{content}$ and $L_\\mathrm{style}$. For the moment, let us fix the following:\n",
        "\n",
        "11. Create two lists ```content_layers``` and ```style_layers```. Initialize ```content_layers``` with a single element ```\"block4_conv2\"``` and ```style_layers``` with five elements ```\"block1_conv1\", ..., \"block5_conv1\"```."
      ]
    },
    {
      "cell_type": "code",
      "execution_count": null,
      "metadata": {
        "id": "TGh47Ghfp4xw"
      },
      "outputs": [],
      "source": [
        "# YOUR CODE"
      ]
    },
    {
      "cell_type": "markdown",
      "metadata": {
        "id": "5kvTm3OLp4xw"
      },
      "source": [
        "12. Write a function ```vgg_layers``` that takes as input a list of strings ```layer_names``` and returns an object ```model``` of type ```keras.models.Model```. Start by loading a pretrained ```VGG19``` without fully connected layers. Then, use the Keras Functional API to create a model ```model``` that has the same input layer as ```VGG19``` and features a list of output layers corresponding to the subset of ```VGG19``` layers specified in ```layer_names```."
      ]
    },
    {
      "cell_type": "code",
      "execution_count": null,
      "metadata": {
        "id": "N2k3fsL0p4xx"
      },
      "outputs": [],
      "source": [
        "# YOUR CODE"
      ]
    },
    {
      "cell_type": "code",
      "execution_count": null,
      "metadata": {
        "id": "tJoa3VxGp4xx"
      },
      "outputs": [],
      "source": [
        "vgg_layers(style_layers).output"
      ]
    },
    {
      "cell_type": "markdown",
      "metadata": {
        "id": "e3Vq-JxIp4xx"
      },
      "source": [
        "**Checkpoint:** The above call of ```vgg_layers(style_layers).output``` should create the following output:\n",
        "```\n",
        "[<KerasTensor: shape=(None, None, None, 64) dtype=float64 (created by layer 'block1_conv1')>,\n",
        " <KerasTensor: shape=(None, None, None, 128) dtype=float64 (created by layer 'block2_conv1')>,\n",
        " <KerasTensor: shape=(None, None, None, 256) dtype=float64 (created by layer 'block3_conv1')>,\n",
        " <KerasTensor: shape=(None, None, None, 512) dtype=float64 (created by layer 'block4_conv1')>,\n",
        " <KerasTensor: shape=(None, None, None, 512) dtype=float64 (created by layer 'block5_conv1')>]\n",
        " ```"
      ]
    },
    {
      "cell_type": "markdown",
      "metadata": {
        "id": "cQDsw7y4p4xx"
      },
      "source": [
        "13. Write a function ```gram_matrix``` that gets as input a 4D-tensor ```input_tensor``` (corresponding to $\\mathbf{a}^{[\\ell](\\mathbf{x})}$ and $\\mathbf{a}^{[\\ell](\\mathbf{s})}$, respectively) and returns the Gram matrix of this tensor according to $(****)$. To that end, apply the function ```tf.linalg.einsum``` conveniently as a first step. Keep in mind that the leading dimension of ```input_tensor``` represents the batch size and should remain untouched during Gram matrix computation."
      ]
    },
    {
      "cell_type": "code",
      "execution_count": null,
      "metadata": {
        "id": "PJBTDO-3p4xx"
      },
      "outputs": [],
      "source": [
        "# YOUR CODE"
      ]
    },
    {
      "cell_type": "code",
      "execution_count": null,
      "metadata": {
        "id": "EvD0-L8op4xy",
        "scrolled": true
      },
      "outputs": [],
      "source": [
        "gram_matrix(vgg_layers(style_layers)(content_image)[0])"
      ]
    },
    {
      "cell_type": "markdown",
      "metadata": {
        "id": "xMy380GAp4xy"
      },
      "source": [
        "**Checkpoint:** The above call of ```gram_matrix(vgg_layers(style_layers)(content_image)[0])``` should produce the following output:\n",
        "```\n",
        "<tf.Tensor: shape=(1, 64, 64), dtype=float64, numpy=\n",
        "array([[[0.01065388, 0.00390675, 0.00425856, ..., 0.00097763,\n",
        "         0.00566108, 0.00761762],\n",
        "        [0.00390675, 0.0019675 , 0.00208546, ..., 0.00022037,\n",
        "         0.00267012, 0.00339072],\n",
        "        [0.00425856, 0.00208546, 0.00227649, ..., 0.00021288,\n",
        "         0.00297196, 0.00380253],\n",
        "        ...,\n",
        "        [0.00097763, 0.00022037, 0.00021288, ..., 0.00061053,\n",
        "         0.00064032, 0.0006466 ],\n",
        "        [0.00566108, 0.00267012, 0.00297196, ..., 0.00064032,\n",
        "         0.00492798, 0.00563125],\n",
        "        [0.00761762, 0.00339072, 0.00380253, ..., 0.0006466 ,\n",
        "         0.00563125, 0.00693724]]])>\n",
        "```"
      ]
    },
    {
      "cell_type": "markdown",
      "metadata": {
        "id": "eYJFAXJnp4xy"
      },
      "source": [
        "14. Complete the method ```call``` of the class ```StyleContentModel```. Proceed as follows:\n",
        "\n",
        "    14.1 The argument ```inputs``` is again a 4D-tensor with values between zero and one. Apply ```tf.keras.applications.vgg19.preprocess_input``` to an appropriately scaled version of ```inputs``` (do not change height and width) and store the result in ```preprocessed_input```.\n",
        "    \n",
        "    14.2 Apply the attribute ```vgg``` to ```preprocessed_input``` and store the result in ```outputs```.\n",
        "    \n",
        "    14.3 Subdivide the list ```outputs``` into two lists ```style_outputs``` and ```content_outputs```. Before you do that, take a look at the initialization of ```vgg```.\n",
        "    \n",
        "    14.4 Replace all elements of ```style_outputs``` by associated Gram matrices."
      ]
    },
    {
      "cell_type": "code",
      "execution_count": null,
      "metadata": {
        "id": "Zp7l3lURp4xz"
      },
      "outputs": [],
      "source": [
        "# replace all occurences of None\n",
        "class StyleContentModel(tf.keras.models.Model):  \n",
        "    def __init__(self, style_layers, content_layers):\n",
        "        super(StyleContentModel, self).__init__()\n",
        "        self.vgg =  vgg_layers(style_layers + content_layers)\n",
        "        self.style_layers = style_layers\n",
        "        self.content_layers = content_layers\n",
        "        self.num_style_layers = len(style_layers)\n",
        "        self.vgg.trainable = False\n",
        "        \n",
        "    def call(self, inputs):\n",
        "        preprocessed_input = None\n",
        "        outputs = None\n",
        "        style_outputs, content_outputs = None\n",
        "        style_outputs = None\n",
        "        content_dict = {content_name: value for content_name, value in zip(self.content_layers, content_outputs)}\n",
        "        style_dict = {style_name: value for style_name, value in zip(self.style_layers, style_outputs)}\n",
        "        return {'content': content_dict, 'style': style_dict}"
      ]
    },
    {
      "cell_type": "markdown",
      "metadata": {
        "id": "W3Pj0g55p4xz"
      },
      "source": [
        "**Remark:** You have finally used all three Keras APIs! In Project 1, you have built models using the *Keras Sequential API*. Above in 12. you used the *Keras Functional API* and in 14.4 the *Keras Subclassing API*. The flexibility of these APIs increases in the above order: The Sequential API is very easy to use, but only allows for models with a single input tensor, a single output tensor, and a number of sequential layers in between. The Functional API allows for multiple input and output tensors (we exploited the latter in 12.) and it is possible, for example, to build so-called skip connections where activations skip one ore more layers. The possibilities of the Subclassing API go far beyond that. Arbitrary TensorFlow functions (in our case to compute the Gram matrix in 14.4) as well as control structures like ```for``` and ```while``` can be used inside the ```call``` method. A drawback of the Subclassing API is that created models cannot be saved and loaded without extra effort. Unlike in case of the other two APIs, we need to create an instance of our (sub)class in order to get a model by means of the Subclassing API.\n",
        "\n",
        "15. Create an instance ```extractor``` of ```StyleContentModel```. In doing that, submit the lists ```style_layers``` and ```content_layers``` from above to the constructor."
      ]
    },
    {
      "cell_type": "code",
      "execution_count": null,
      "metadata": {
        "id": "tWIbRkrZp4x0"
      },
      "outputs": [],
      "source": [
        "# YOUR CODE"
      ]
    },
    {
      "cell_type": "markdown",
      "metadata": {
        "id": "sBV2Ja25p4x0"
      },
      "source": [
        "Now we are ready to implement the losses $(*)$, $(**)$ and $(***)$ with the help of ```extractor```!"
      ]
    },
    {
      "cell_type": "markdown",
      "metadata": {
        "id": "66zu4wz1p4x1"
      },
      "source": [
        "## 2.4 Minimizing the loss\n",
        "\n",
        "In the course of Neural Style Transfer we actually try to solve the optimization problem\n",
        "\n",
        "$$\\min_{\\mathbf{x}} J(\\mathbf{x}, \\mathbf{c}, \\mathbf{s})$$\n",
        "\n",
        "where $\\mathbf{c}$ and $\\mathbf{s}$ represent *Content Image* and *Style Image*, respectively. As these two images are given, all $\\mathbf{a}^{[\\ell](\\mathbf{c})}$ in $(**)$ and all $\\mathbf{G}^{[\\ell](\\mathbf{s})}$ in $(***)$ are constants that we will compute now.\n",
        "\n",
        "16. Apply ```extractor``` to ```style_image``` to extract associated Gram matrices and store the result in ```style_targets```. The result must be a list with items $\\mathbf{G}^{[\\ell](\\mathbf{s})}$ for multiple values of $\\ell$."
      ]
    },
    {
      "cell_type": "code",
      "execution_count": null,
      "metadata": {
        "id": "YP__BFtrp4x1"
      },
      "outputs": [],
      "source": [
        "# YOUR CODE"
      ]
    },
    {
      "cell_type": "code",
      "execution_count": null,
      "metadata": {
        "id": "tx27tQ0op4x1"
      },
      "outputs": [],
      "source": [
        "style_targets[\"block1_conv1\"]"
      ]
    },
    {
      "cell_type": "markdown",
      "metadata": {
        "id": "pte1WL9Gp4x1"
      },
      "source": [
        "**Checkpoint:** The above call of ```style_targets[\"block1_conv1\"]``` should produce the following output:\n",
        "```\n",
        "<tf.Tensor: shape=(1, 64, 64), dtype=float64, numpy=\n",
        "array([[[ 45.92743055,  20.06590504,   9.71989013, ...,  30.17798489,\n",
        "          10.98088872,  15.10200837],\n",
        "        [ 20.06590504,  45.85620007,  13.65396233, ...,  21.29668717,\n",
        "          14.39884349,  10.82709402],\n",
        "        [  9.71989013,  13.65396233,   8.18387814, ...,   2.56935254,\n",
        "           8.03212506,   8.51876579],\n",
        "        ...,\n",
        "        [ 30.17798489,  21.29668717,   2.56935254, ..., 198.46450743,\n",
        "          20.21175996,   9.80212628],\n",
        "        [ 10.98088872,  14.39884349,   8.03212506, ...,  20.21175996,\n",
        "          21.53061025,  15.80490754],\n",
        "        [ 15.10200837,  10.82709402,   8.51876579, ...,   9.80212628,\n",
        "          15.80490754,  16.56110532]]])>\n",
        "```"
      ]
    },
    {
      "cell_type": "markdown",
      "metadata": {
        "id": "_p1V2YKbp4x1"
      },
      "source": [
        "17. Apply ```extractor``` to ```content_image``` to extract associated activations and store the result in ```content_targets```. The result must be a list with items $\\mathbf{a}^{[\\ell](\\mathbf{c})}$ for different values of $\\ell$."
      ]
    },
    {
      "cell_type": "code",
      "execution_count": null,
      "metadata": {
        "id": "W2eLlQG2p4x2"
      },
      "outputs": [],
      "source": [
        "# YOUR CODE"
      ]
    },
    {
      "cell_type": "code",
      "execution_count": null,
      "metadata": {
        "id": "HTmTnR-Vp4x2"
      },
      "outputs": [],
      "source": [
        "content_targets[\"block4_conv2\"][0][0]"
      ]
    },
    {
      "cell_type": "markdown",
      "metadata": {
        "id": "ErrJP6kxp4x3"
      },
      "source": [
        "**Checkpoint:** The above call of ```content_targets[\"block1_conv1\"][0][0]``` should produce the following output:\n",
        "```\n",
        "<tf.Tensor: shape=(64, 512), dtype=float64, numpy=\n",
        "array([[725.71265434,   0.        ,  91.28209556, ...,  43.47577693,\n",
        "        375.02083088,   0.        ],\n",
        "       [  0.        ,   0.        , 353.31359666, ...,   0.        ,\n",
        "        351.77779676,   0.        ],\n",
        "       [  0.        ,   0.        , 490.15692419, ...,   0.        ,\n",
        "        460.51096857,   0.        ],\n",
        "       ...,\n",
        "       [  0.        ,   0.        , 178.48063073, ..., 161.33845743,\n",
        "        238.55003094,   0.        ],\n",
        "       [  0.        ,   0.        , 682.45457904, ..., 182.48885433,\n",
        "        390.16694736,   0.        ],\n",
        "       [  0.        ,   0.        , 607.08138405, ..., 595.88203066,\n",
        "        626.46038097,   0.        ]])>\n",
        "```"
      ]
    },
    {
      "cell_type": "markdown",
      "metadata": {
        "id": "Ziyr4qAEp4x3"
      },
      "source": [
        "18. Initialize ```image``` (corresponding to $\\mathbf{x}$) as a ```tf.Variable``` with value ```content_image```."
      ]
    },
    {
      "cell_type": "code",
      "execution_count": null,
      "metadata": {
        "id": "YRx-7Gjwp4x3"
      },
      "outputs": [],
      "source": [
        "# YOUR CODE"
      ]
    },
    {
      "cell_type": "markdown",
      "metadata": {
        "id": "Apy9rJoJp4x3"
      },
      "source": [
        "19. Initialize ```content_weight = 1e-3``` (corresponds to $\\alpha$) and ```style_weight = 1``` (corresponds to $\\beta$)."
      ]
    },
    {
      "cell_type": "code",
      "execution_count": null,
      "metadata": {
        "id": "ly-E733ap4x3"
      },
      "outputs": [],
      "source": [
        "# YOUR CODE"
      ]
    },
    {
      "cell_type": "markdown",
      "metadata": {
        "id": "Xbs7BlPKp4x3"
      },
      "source": [
        "20. Assign the optimizer ```tf.optimizers.Adam``` with parameters ```learning_rate=0.02```, ```beta_1=0.99``` and ```epsilon=1e-1``` to ```opt```."
      ]
    },
    {
      "cell_type": "code",
      "execution_count": null,
      "metadata": {
        "id": "0-peS_h1p4x4"
      },
      "outputs": [],
      "source": [
        "# YOUR CODE"
      ]
    },
    {
      "cell_type": "markdown",
      "metadata": {
        "id": "HnVXJ_M8p4x4"
      },
      "source": [
        "21. Write a function ```clip_0_1``` that takes a 4D-tensor ```image``` as input and clips the values of that tensor to the interval ```[0, 1]```. Use the function ```tf.clip_by_value```."
      ]
    },
    {
      "cell_type": "code",
      "execution_count": null,
      "metadata": {
        "id": "_Ohd5HGxp4x4"
      },
      "outputs": [],
      "source": [
        "# YOUR CODE"
      ]
    },
    {
      "cell_type": "markdown",
      "metadata": {
        "id": "prjvN2ihp4x4"
      },
      "source": [
        "22. Complete the function ```style_content_loss``` that corresponds to $(*)$ and will be called by ```train_step``` in the next step."
      ]
    },
    {
      "cell_type": "code",
      "execution_count": null,
      "metadata": {
        "id": "6jOsbYhcp4x4"
      },
      "outputs": [],
      "source": [
        "# replace all occurences of None\n",
        "def style_content_loss(outputs, style_targets, content_targets, style_weight, content_weight):\n",
        "    style_outputs = outputs['style']\n",
        "    content_outputs = outputs['content']\n",
        "    style_loss = tf.add_n([tf.reduce_sum((style_outputs[name] - None) ** 2) for name in style_outputs.keys()])\n",
        "    style_loss *= None\n",
        "    content_loss = tf.add_n([tf.reduce_sum((content_outputs[name] - None) ** 2) for name in content_outputs.keys()])\n",
        "    content_loss *= None\n",
        "    loss = None\n",
        "    return loss"
      ]
    },
    {
      "cell_type": "markdown",
      "metadata": {
        "id": "Rx5fF4jwp4x4"
      },
      "source": [
        "23. Complete the TensorFlow function ```train_step``` that computes a gradient of ```style_content_loss``` with respect to ```image``` and performs an associated gradient descent step."
      ]
    },
    {
      "cell_type": "code",
      "execution_count": null,
      "metadata": {
        "id": "S1g-CCr4p4x4"
      },
      "outputs": [],
      "source": [
        "# replace all occurences of None\n",
        "@tf.function()\n",
        "def train_step(image, opt):\n",
        "    with tf.GradientTape() as tape:\n",
        "        outputs = None\n",
        "        loss = None\n",
        "    grad = tape.gradient(None, None)    \n",
        "    opt.apply_gradients([(None, None)])\n",
        "    image.assign(clip_0_1(None))\n",
        "    return loss"
      ]
    },
    {
      "cell_type": "markdown",
      "metadata": {
        "id": "uVGvp6h1p4x4"
      },
      "source": [
        "**Remark:** The prefix ```@tf.function()``` creates a so-called TensorFlow function. Based on such functions, TensorFlow creates and optimizes computation graphs automatically at runtime which will often induce a drastic speed-up (through parallelization, etc.)."
      ]
    },
    {
      "cell_type": "markdown",
      "metadata": {
        "id": "aoSBHSbLp4x5"
      },
      "source": [
        "24. Complement the following code with a call of ```train_step``` and start training. Watch the *Getting started with TensorBoard* video in the Stud.IP courseware to learn how to access the results."
      ]
    },
    {
      "cell_type": "code",
      "execution_count": null,
      "metadata": {
        "id": "T1daUhhwp4x5"
      },
      "outputs": [],
      "source": [
        "loops = 100\n",
        "iters_per_loop = 10\n",
        "\n",
        "file_writer = tf.summary.create_file_writer('logs' + f'/stw{style_weight}_cow{content_weight}')\n",
        "file_writer.set_as_default()\n",
        "\n",
        "for loop in range(loops):\n",
        "    tf.summary.image('image', data=image, step=loop * iters_per_loop)\n",
        "    for it in range(iters_per_loop):\n",
        "        # YOUR CODE\n",
        "        tf.summary.scalar('loss', data=loss, step=loop * iters_per_loop + it)"
      ]
    },
    {
      "cell_type": "markdown",
      "metadata": {
        "id": "isAEEGVjp4x5"
      },
      "source": [
        "## 2.5 Adding TV regularization"
      ]
    },
    {
      "cell_type": "markdown",
      "metadata": {
        "id": "DsISQ7G3p4x5"
      },
      "source": [
        "Images generated with *Neural Style Transfer* often feature high frequency parts which some viewers might perceive as unpleasant or noisy. One way to mitigate this effect is adding *TV regularization* to the overall loss ```(*)```. In a nutshell, this means that large color gradients of the generated image are penalized a little bit. The resulting image usually has less local variation and appears smoother than before. Luckily, TensorFlow features a readily implemented function to compute the total variation of images and we are now going to add this function to ```train_step```."
      ]
    },
    {
      "cell_type": "markdown",
      "metadata": {
        "id": "j81HLpu_p4x5"
      },
      "source": [
        "25. Initialize ```tv_weight = 1e3```."
      ]
    },
    {
      "cell_type": "code",
      "execution_count": null,
      "metadata": {
        "id": "zIWok7k4p4x5"
      },
      "outputs": [],
      "source": [
        "# YOUR CODE"
      ]
    },
    {
      "cell_type": "markdown",
      "metadata": {
        "id": "U1OXA_NNp4x5"
      },
      "source": [
        "26. Redefine ```train_step```. The only difference above should be an additional loss term ```tv_weight * tf.cast(tf.image.total_variation(image)[0], tf.float64)```."
      ]
    },
    {
      "cell_type": "code",
      "execution_count": null,
      "metadata": {
        "id": "d3f7wN3ap4x5"
      },
      "outputs": [],
      "source": [
        "# YOUR CODE"
      ]
    },
    {
      "cell_type": "markdown",
      "metadata": {
        "id": "6asxAQA9p4x5"
      },
      "source": [
        "27. Initialize ```image``` again."
      ]
    },
    {
      "cell_type": "code",
      "execution_count": null,
      "metadata": {
        "id": "HCyCK5lkp4x6"
      },
      "outputs": [],
      "source": [
        "# YOUR CODE"
      ]
    },
    {
      "cell_type": "markdown",
      "metadata": {
        "id": "OttZqyBPp4x6"
      },
      "source": [
        "28. Repeat step 24. and view the results. Don't forget to re-initialize ```opt```."
      ]
    },
    {
      "cell_type": "code",
      "execution_count": null,
      "metadata": {
        "id": "FxzBRfAyp4x6"
      },
      "outputs": [],
      "source": [
        "# YOUR CODE"
      ]
    },
    {
      "cell_type": "markdown",
      "metadata": {
        "id": "aqEPD_g7p4x6"
      },
      "source": [
        "29. Submit this notebook not later than December 11th."
      ]
    },
    {
      "cell_type": "markdown",
      "metadata": {
        "id": "wifFMLacp4x6"
      },
      "source": [
        "30. Apply Neural Style Transfer to content and style images of your choice. Three (not more and not less) self-created images per group need to be submitted and are also due on Decmeber 11th.\n",
        "\n",
        "The submitted images are intended to participate in a *Neural Art Contest* that will take place towards the end of the semester in the form of a public online poll. The guiding theme of the contest is *Nature*. So your content images should feature something from this context. Apart from using content and style images of your choice, there are several things you could try:\n",
        "\n",
        "- Use a larger value of ```max_dim``` to produce higher-resolution images.\n",
        "- Use constant or random initialization for ```image``` instead of ```content_image```.\n",
        "- Use lists ```content_layers``` and ```style_layers``` that are different from the standard setting.\n",
        "- Modify ```content_weight```, ```style_weight``` and ```tv_weight```.\n",
        "- Replace ```tf.optimizers.Adam``` by another algorithm.\n",
        "- Perform more iterations.\n",
        "- Anything else that comes to your mind.\n",
        "\n",
        "Importantly, you need to use your own code to create the images. Moreover, your submission needs to be reproducible, i.e., you are asked to submit all content, style and generated images Python scripts that can be run to reproduce your submitted images.\n",
        "\n",
        "We recommend to use the GPU cluster, especially when you increase the image resolution."
      ]
    }
  ],
  "metadata": {
    "colab": {
      "collapsed_sections": [
        "x_SIPLaQp4xv",
        "66zu4wz1p4x1",
        "isAEEGVjp4x5"
      ],
      "provenance": []
    },
    "kernelspec": {
      "display_name": "Python 3.10.6 ('fdps')",
      "language": "python",
      "name": "python3"
    },
    "language_info": {
      "codemirror_mode": {
        "name": "ipython",
        "version": 3
      },
      "file_extension": ".py",
      "mimetype": "text/x-python",
      "name": "python",
      "nbconvert_exporter": "python",
      "pygments_lexer": "ipython3",
      "version": "3.10.6"
    },
    "vscode": {
      "interpreter": {
        "hash": "b5a3d23a055991eeeac0807fc0793d28e6e208a0be2e596b3d30af3a7aea3491"
      }
    }
  },
  "nbformat": 4,
  "nbformat_minor": 0
}
